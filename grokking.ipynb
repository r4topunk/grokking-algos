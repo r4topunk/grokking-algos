{
 "cells": [
  {
   "cell_type": "markdown",
   "id": "f4e5402e",
   "metadata": {},
   "source": [
    "### Quicksort"
   ]
  },
  {
   "cell_type": "markdown",
   "id": "d14eda10",
   "metadata": {},
   "source": [
    "> 4.1 Escreva o código para a função `soma`, vista anteriormente"
   ]
  },
  {
   "cell_type": "code",
   "execution_count": 9,
   "id": "a0d96d88",
   "metadata": {},
   "outputs": [
    {
     "name": "stdout",
     "output_type": "stream",
     "text": [
      "Calculating sum for array: [1, 2, 3, 4, 5]\n",
      "Calculating sum for array: [2, 3, 4, 5]\n",
      "Calculating sum for array: [3, 4, 5]\n",
      "Calculating sum for array: [4, 5]\n",
      "Calculating sum for array: [5]\n",
      "Base case: array has one element 5, returning 5\n",
      "Recursive step: adding 4 to sum of [5], result is 9\n",
      "Recursive step: adding 3 to sum of [4, 5], result is 12\n",
      "Recursive step: adding 2 to sum of [3, 4, 5], result is 14\n",
      "Recursive step: adding 1 to sum of [2, 3, 4, 5], result is 15\n"
     ]
    },
    {
     "data": {
      "text/plain": [
       "15"
      ]
     },
     "execution_count": 9,
     "metadata": {},
     "output_type": "execute_result"
    }
   ],
   "source": [
    "def soma(arr):\n",
    "    print(f\"Calculating sum for array: {arr}\")\n",
    "    if len(arr) <= 0:\n",
    "        print(\"Base case: array is empty, returning 0\")\n",
    "        return 0\n",
    "    if len(arr) == 1:\n",
    "        print(f\"Base case: array has one element {arr[0]}, returning {arr[0]}\")\n",
    "        return arr[0]\n",
    "    result = arr[0] + soma(arr[1:])\n",
    "    print(f\"Recursive step: adding {arr[0]} to sum of {arr[1:]}, result is {result}\")\n",
    "    return result\n",
    "\n",
    "soma([1,2,3,4,5])"
   ]
  },
  {
   "cell_type": "markdown",
   "id": "81a376fa",
   "metadata": {},
   "source": [
    "> 4.2 Escreva uma função recursiva que conte o número de itens em uma lista."
   ]
  },
  {
   "cell_type": "code",
   "execution_count": null,
   "id": "ca1e54a2",
   "metadata": {},
   "outputs": [
    {
     "name": "stdout",
     "output_type": "stream",
     "text": [
      "Calculating higher of array: [1, 2, 3, 4, 5]\n",
      "Calculating higher of array: [2, 3, 4, 5]\n",
      "Calculating higher of array: [3, 4, 5]\n",
      "Calculating higher of array: [4, 5]\n",
      "Calculating higher of array: [5]\n",
      "Base case: array has one element [5], returning 1\n",
      "Recursive step: adding 1 for [4], total higher so far is 2\n",
      "Recursive step: adding 1 for [3], total higher so far is 3\n",
      "Recursive step: adding 1 for [2], total higher so far is 4\n",
      "Recursive step: adding 1 for [1], total higher so far is 5\n"
     ]
    },
    {
     "data": {
      "text/plain": [
       "5"
      ]
     },
     "execution_count": 18,
     "metadata": {},
     "output_type": "execute_result"
    }
   ],
   "source": [
    "def length(arr):\n",
    "    print(f\"Calculating length of array: {arr}\")\n",
    "    if len(arr) <= 0:\n",
    "        print(\"Base case: array is empty, returning 0\")\n",
    "        return 0\n",
    "    if len(arr) == 1:\n",
    "        print(f\"Base case: array has one element [{arr[0]}], returning 1\")\n",
    "        return 1\n",
    "    result = 1 + length(arr[1:])\n",
    "    print(f\"Recursive step: adding 1 for [{arr[0]}], total length so far is {result}\")\n",
    "    return result\n",
    "    \n",
    "length([1,2,3,4,5])"
   ]
  },
  {
   "cell_type": "markdown",
   "id": "6a14bcd1",
   "metadata": {},
   "source": [
    "> 4.3 Encontre o valor mais alto em uma lista"
   ]
  },
  {
   "cell_type": "code",
   "execution_count": 22,
   "id": "0f78bf6d",
   "metadata": {},
   "outputs": [
    {
     "name": "stdout",
     "output_type": "stream",
     "text": [
      "Calculating higher element of array: [1, 2, 6, 4, 5]\n",
      "Calculating higher element of array: [2, 6, 4, 5]\n",
      "Calculating higher element of array: [6, 4, 5]\n",
      "Calculating higher element of array: [4, 5]\n",
      "Calculating higher element of array: [5]\n",
      "Base case: array has one element [5], returning the element\n"
     ]
    },
    {
     "data": {
      "text/plain": [
       "6"
      ]
     },
     "execution_count": 22,
     "metadata": {},
     "output_type": "execute_result"
    }
   ],
   "source": [
    "def higher(arr):\n",
    "    print(f\"Calculating higher element of array: {arr}\")\n",
    "    if len(arr) <= 0:\n",
    "        print(\"Base case: array is empty, returning 0\")\n",
    "        return 0\n",
    "    if len(arr) == 1:\n",
    "        print(f\"Base case: array has one element [{arr[0]}], returning the element\")\n",
    "        return arr[0]\n",
    "    inner_higher = higher(arr[1:])\n",
    "    return arr[0] if arr[0] > inner_higher else inner_higher\n",
    "    \n",
    "higher([1,2,6,4,5])"
   ]
  },
  {
   "cell_type": "markdown",
   "id": "9438e190",
   "metadata": {},
   "source": [
    "> 4.4 Você se lembra da pesquisa binária do Capítulo 1? Ela também é um algoritmo do tipo dividir para conquistar. Você consegue determinar o caso-base e o caso recursivo para a pesquisa binária?"
   ]
  },
  {
   "cell_type": "code",
   "execution_count": 12,
   "id": "e988a396",
   "metadata": {},
   "outputs": [
    {
     "name": "stdout",
     "output_type": "stream",
     "text": [
      "Buscando o item [8] na lista [2, 4, 6, 8, 10]\n",
      "Tamanho do array é 5\n",
      "Elemento central de índice 2, é o 6\n",
      "Meio (6) é menor que o item (8)\n",
      "Buscando o item [8] na lista [8, 10]\n",
      "Tamanho do array é 2\n",
      "Elemento central de índice 0, é o 8\n",
      "Item encontrado, retornando 0\n"
     ]
    },
    {
     "data": {
      "text/plain": [
       "2"
      ]
     },
     "execution_count": 12,
     "metadata": {},
     "output_type": "execute_result"
    }
   ],
   "source": [
    "def busca_binaria(lista, item):\n",
    "    print(f\"Buscando o item [{item}] na lista {lista}\")\n",
    "    baixo = 0\n",
    "    alto = len(lista) - 1\n",
    "\n",
    "    print(f\"Tamanho do array é {len(lista)}\")\n",
    "\n",
    "    if baixo >= alto:\n",
    "        print(\"Elemento não encontrado\")\n",
    "        return None\n",
    "    \n",
    "    meio = int((baixo + alto) / 2)\n",
    "\n",
    "    print(f\"Elemento central de índice {meio}, é o {lista[meio]}\")\n",
    "\n",
    "    # Caso base\n",
    "    if lista[meio] == item:\n",
    "        print(f\"Item encontrado, retornando {meio}\")\n",
    "        return meio\n",
    "    \n",
    "    if lista[meio] > item:\n",
    "        print(f\"Meio ({lista[meio]}) é maior que o item ({item})\")\n",
    "        return busca_binaria(lista[:meio-1], item)\n",
    "    else:\n",
    "        print(f\"Meio ({lista[meio]}) é menor que o item ({item})\")\n",
    "        return meio + busca_binaria(lista[meio+1:], item)\n",
    "\n",
    "minha_lista = [2, 4, 6, 8, 10]\n",
    "\n",
    "busca_binaria(minha_lista, 8)"
   ]
  }
 ],
 "metadata": {
  "kernelspec": {
   "display_name": "Python 3",
   "language": "python",
   "name": "python3"
  },
  "language_info": {
   "codemirror_mode": {
    "name": "ipython",
    "version": 3
   },
   "file_extension": ".py",
   "mimetype": "text/x-python",
   "name": "python",
   "nbconvert_exporter": "python",
   "pygments_lexer": "ipython3",
   "version": "3.9.6"
  }
 },
 "nbformat": 4,
 "nbformat_minor": 5
}
